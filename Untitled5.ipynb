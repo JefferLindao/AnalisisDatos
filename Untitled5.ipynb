{
  "nbformat": 4,
  "nbformat_minor": 0,
  "metadata": {
    "colab": {
      "provenance": [],
      "authorship_tag": "ABX9TyMLBsWdwCzdf66DseFDRAWc",
      "include_colab_link": true
    },
    "kernelspec": {
      "name": "python3",
      "display_name": "Python 3"
    },
    "language_info": {
      "name": "python"
    }
  },
  "cells": [
    {
      "cell_type": "markdown",
      "metadata": {
        "id": "view-in-github",
        "colab_type": "text"
      },
      "source": [
        "<a href=\"https://colab.research.google.com/github/JefferLindao/AnalisisDatos/blob/main/Untitled5.ipynb\" target=\"_parent\"><img src=\"https://colab.research.google.com/assets/colab-badge.svg\" alt=\"Open In Colab\"/></a>"
      ]
    },
    {
      "cell_type": "code",
      "execution_count": 3,
      "metadata": {
        "colab": {
          "base_uri": "https://localhost:8080/",
          "height": 350
        },
        "id": "1l5R2L9OGTws",
        "outputId": "91dbf33d-9541-4fc0-9d94-1dc0c7db0489"
      },
      "outputs": [
        {
          "output_type": "execute_result",
          "data": {
            "text/plain": [
              "([<matplotlib.axis.XTick at 0x7fcdc47c26d0>,\n",
              "  <matplotlib.axis.XTick at 0x7fcdc47cd550>,\n",
              "  <matplotlib.axis.XTick at 0x7fcdc47cd190>],\n",
              " [Text(0, 0, 'CN'), Text(0, 0, 'V'), Text(0, 0, 'T')])"
            ]
          },
          "metadata": {},
          "execution_count": 3
        },
        {
          "output_type": "display_data",
          "data": {
            "text/plain": [
              "<Figure size 432x288 with 1 Axes>"
            ],
            "image/png": "[encoded data removed]"
          },
          "metadata": {
            "needs_background": "light"
          }
        }
      ],
      "source": [
        "import matplotlib.pyplot as plt\n",
        "import pandas as pd\n",
        "import numpy as np\n",
        "import os\n",
        "datos = pd.read_csv('Sopas_en_lata.csv', delimiter=',')\n",
        "barras = pd.value_counts(datos['PRODUCTO'])\n",
        "plt.figure()\n",
        "plt.bar(np.arange(len(barras)), barras) # Gráfico de barras\n",
        "plt.title('PRODUCTO') # Colocamos el título\n",
        "plt.ylabel('Frecuencia')\n",
        "# Colocamos las etiquetas del eje x\n",
        "plt.xticks(np.arange(3), barras.index, rotation = 0)\n"
      ]
    }
  ]
}